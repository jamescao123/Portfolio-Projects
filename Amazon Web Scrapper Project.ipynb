{
 "cells": [
  {
   "cell_type": "code",
   "execution_count": 8,
   "id": "df95e53b",
   "metadata": {},
   "outputs": [],
   "source": [
    "#import libraries\n",
    "\n",
    "from bs4 import BeautifulSoup\n",
    "import requests\n",
    "import time\n",
    "import datetime\n",
    "\n",
    "import smtplib"
   ]
  },
  {
   "cell_type": "code",
   "execution_count": 37,
   "id": "2571fb29",
   "metadata": {
    "scrolled": true
   },
   "outputs": [
    {
     "name": "stdout",
     "output_type": "stream",
     "text": [
      "Bose QuietComfort 45 Noise Cancelling Headphones with Built-in Microphone for Clear Calls and Alexa Voice Control, Black\n",
      "$373.00\n"
     ]
    }
   ],
   "source": [
    "# Connect to Website and pull in data\n",
    "\n",
    "URL = 'https://www.amazon.com.au/Bose-QuietComfort-Cancelling-Headphones-Microphone/dp/B098FKXT8L/ref=sr_1_4?crid=1S0JUEV0TONLC&keywords=bose+quietcomfort+35&qid=1676851253&s=electronics&sprefix=%2Celectronics%2C207&sr=1-4'\n",
    "\n",
    "\n",
    "# set the user agent in headers to avoid getting blocked\n",
    "\n",
    "headers = {\"User-Agent\": \"Mozilla/5.0 (Windows NT 10.0; Win64; x64) AppleWebKit/537.36 (KHTML, like Gecko) Chrome/108.0.0.0 Safari/537.36 OPR/94.0.0.0\"}\n",
    "\n",
    "\n",
    "# make a GET request to the URL\n",
    "page = requests.get(URL, headers=headers)\n",
    "\n",
    "# create a BeautifulSoup object \n",
    "soup1 = BeautifulSoup(page.content, \"html.parser\")\n",
    "\n",
    "# prettify the BeautifulSoup object and create a new one\n",
    "soup2 = BeautifulSoup(soup1.prettify(), \"html.parser\")\n",
    "\n",
    "# find the price element by its class\n",
    "price_element = soup2.find('span', {'class': 'a-price-whole'})\n",
    "\n",
    "# get the text of the price element\n",
    "price_text = price_element.get_text()\n",
    "\n",
    "# remove any non-numeric characters from the price text and convert to float\n",
    "price = float(''.join(filter(str.isdigit, price_text))) \n",
    "\n",
    "# find the title element by its ID\n",
    "title_element = soup2.find('span', {'id': 'productTitle'})\n",
    "\n",
    "# get the text of the title element\n",
    "title = title_element.get_text().strip()\n",
    "\n",
    "# print the title and price\n",
    "print(f'{title}')\n",
    "print(f'${price:.2f}')\n",
    "\n",
    "\n",
    "\n",
    "\n",
    "\n"
   ]
  },
  {
   "cell_type": "code",
   "execution_count": 38,
   "id": "c4a543e3",
   "metadata": {},
   "outputs": [
    {
     "name": "stdout",
     "output_type": "stream",
     "text": [
      "2023-02-20\n"
     ]
    }
   ],
   "source": [
    "import datetime\n",
    "\n",
    "today = datetime.date.today()\n",
    "\n",
    "print(today)"
   ]
  },
  {
   "cell_type": "code",
   "execution_count": 39,
   "id": "433b6873",
   "metadata": {},
   "outputs": [],
   "source": [
    "import csv\n",
    "\n",
    "#convert output(string) to list\n",
    "header = ['Title', 'Price', 'Date']\n",
    "data = [title,price,today]\n",
    "\n",
    "#write data to csv file\n",
    "\n",
    "with open('AmazonWebScraperDataset.csv', 'w', newline='',encoding =' UTF8') as f:\n",
    "    writer = csv.writer(f)\n",
    "    writer.writerow(header)\n",
    "    writer.writerow(data)"
   ]
  },
  {
   "cell_type": "code",
   "execution_count": 41,
   "id": "578a1d4e",
   "metadata": {},
   "outputs": [
    {
     "name": "stdout",
     "output_type": "stream",
     "text": [
      "                                               Title  Price        Date\n",
      "0  Bose QuietComfort 45 Noise Cancelling Headphon...  373.0  2023-02-20\n"
     ]
    }
   ],
   "source": [
    "import pandas as pd\n",
    "\n",
    "#read csv file\n",
    "\n",
    "df = pd.read_csv(r'C:\\Users\\Owner\\AmazonWebScraperDataset.csv')\n",
    "\n",
    "#print data frame\n",
    "\n",
    "print(df)"
   ]
  },
  {
   "cell_type": "code",
   "execution_count": 42,
   "id": "fbe9123b",
   "metadata": {},
   "outputs": [],
   "source": [
    "#append data to CSV\n",
    "\n",
    "with open('AmazonWebScraperDataset.csv', 'a+', newline='',encoding =' UTF8') as f:\n",
    "    writer = csv.writer(f) \n",
    "    writer.writerow(data)"
   ]
  },
  {
   "cell_type": "code",
   "execution_count": 45,
   "id": "6ca01036",
   "metadata": {},
   "outputs": [],
   "source": [
    "#Automating, combining into one function\n",
    "\n",
    "\n",
    "\n",
    "def check_price():\n",
    "    # Connect to Website and pull in data\n",
    "    URL = 'https://www.amazon.com.au/Bose-QuietComfort-Cancelling-Headphones-Microphone/dp/B098FKXT8L/ref=sr_1_4?crid=1S0JUEV0TONLC&keywords=bose+quietcomfort+35&qid=1676851253&s=electronics&sprefix=%2Celectronics%2C207&sr=1-4'\n",
    "\n",
    "    # set the user agent in headers to avoid getting blocked\n",
    "    headers = {\"User-Agent\": \"Mozilla/5.0 (Windows NT 10.0; Win64; x64) AppleWebKit/537.36 (KHTML, like Gecko) Chrome/108.0.0.0 Safari/537.36 OPR/94.0.0.0\"}\n",
    "\n",
    "    # make a GET request to the URL\n",
    "    page = requests.get(URL, headers=headers)\n",
    "\n",
    "    # create a BeautifulSoup object \n",
    "    soup1 = BeautifulSoup(page.content, \"html.parser\")\n",
    "\n",
    "    # prettify the BeautifulSoup object and create a new one\n",
    "    soup2 = BeautifulSoup(soup1.prettify(), \"html.parser\")\n",
    "\n",
    "    # find the price element by its class\n",
    "    price_element = soup2.find('span', {'class': 'a-price-whole'})\n",
    "\n",
    "    # get the text of the price element\n",
    "    price_text = price_element.get_text()\n",
    "\n",
    "    # remove any non-numeric characters from the price text and convert to float\n",
    "    price = float(''.join(filter(str.isdigit, price_text))) \n",
    "\n",
    "    # find the title element by its ID\n",
    "    title_element = soup2.find('span', {'id': 'productTitle'})\n",
    "\n",
    "    # get the text of the title element\n",
    "    title = title_element.get_text().strip()\n",
    "\n",
    "    # get today's date\n",
    "    today = datetime.date.today()\n",
    "\n",
    "    # create a dataframe with the extracted data\n",
    "    header = ['Title', 'Price', 'Date']\n",
    "    data = [title,price,today]\n",
    "\n",
    "    # write data to csv file\n",
    "    with open('AmazonWebScraperDataset.csv', 'a', newline='',encoding =' UTF8') as f:\n",
    "        writer = csv.writer(f)\n",
    "        writer.writerow(data)\n",
    "        \n",
    "    #send email if below target price\n",
    "    if (price < 250):\n",
    "        send_mail()\n"
   ]
  },
  {
   "cell_type": "code",
   "execution_count": null,
   "id": "9d2ee6db",
   "metadata": {},
   "outputs": [],
   "source": [
    "#Set time of day 24hr format\n",
    "run_time = datetime.time(9,0,0) #9:00am\n",
    "\n",
    "while True:\n",
    "    now = datetime.datetime.now().time()\n",
    "    if now > run_time:\n",
    "        check_price()\n",
    "        time.sleep(86400) # wait for 24 hours (in seconds)\n",
    "    else:\n",
    "        time.sleep(60) # wait for 1 minute\n"
   ]
  },
  {
   "cell_type": "code",
   "execution_count": 51,
   "id": "4fb89c42",
   "metadata": {},
   "outputs": [
    {
     "name": "stdout",
     "output_type": "stream",
     "text": [
      "                                               Title  Price        Date\n",
      "0  Bose QuietComfort 45 Noise Cancelling Headphon...  373.0  2023-02-20\n",
      "1  Bose QuietComfort 45 Noise Cancelling Headphon...  373.0  2023-02-20\n",
      "2  Bose QuietComfort 45 Noise Cancelling Headphon...  373.0  2023-02-20\n",
      "3  Bose QuietComfort 45 Noise Cancelling Headphon...  373.0  2023-02-20\n",
      "4  Bose QuietComfort 45 Noise Cancelling Headphon...  373.0  2023-02-20\n"
     ]
    }
   ],
   "source": [
    "import pandas as pd\n",
    "\n",
    "#read csv file\n",
    "\n",
    "df = pd.read_csv(r'C:\\Users\\Owner\\AmazonWebScraperDataset.csv')\n",
    "\n",
    "#print data frame\n",
    "\n",
    "print(df)"
   ]
  },
  {
   "cell_type": "code",
   "execution_count": null,
   "id": "64fd49ab",
   "metadata": {},
   "outputs": [],
   "source": [
    "def send_mail():\n",
    "    server = smtplib.SMTP_SSL('smtp.gmail.com',465)\n",
    "    server.ehlo()\n",
    "    #server.starttls()\n",
    "    server.ehlo()\n",
    "    server.login('jamescaosydney123@gmail.com','xxxxxxxxxxxxxx') #the 2nd argument is where you add your password\n",
    "    \n",
    "    subject = \"The headphones you want is $250! Now is your chance to buy!\"\n",
    "    body = \"James, Now is your chance to pick up the headphones of your dreams. Don't cheat yourself, treat yourself! Link here: https://www.amazon.com.au/Bose-QuietComfort-Cancelling-Headphones-Microphone/dp/B098FKXT8L/ref=sr_1_5?crid=9GTJPGCCU490&keywords=Bose%2BNoise%2BCancelling%2BHeadphones%2B700%2Bvs%2B35&qid=1676849433&s=electronics&sprefix=bose%2Bnoise%2Bcancelling%2Bheadphones%2B700%2Bvs%2B35%2Celectronics%2C333&sr=1-5&th=1\"\n",
    "   \n",
    "    msg = f\"Subject: {subject}\\n\\n{body}\"\n",
    "    \n",
    "    server.sendmail(\n",
    "        'jamescaoysydney123@gmail.com',\n",
    "        msg\n",
    "     \n",
    "    )"
   ]
  }
 ],
 "metadata": {
  "kernelspec": {
   "display_name": "Python 3 (ipykernel)",
   "language": "python",
   "name": "python3"
  },
  "language_info": {
   "codemirror_mode": {
    "name": "ipython",
    "version": 3
   },
   "file_extension": ".py",
   "mimetype": "text/x-python",
   "name": "python",
   "nbconvert_exporter": "python",
   "pygments_lexer": "ipython3",
   "version": "3.9.13"
  }
 },
 "nbformat": 4,
 "nbformat_minor": 5
}
